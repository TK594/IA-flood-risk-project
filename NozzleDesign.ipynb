{
  "nbformat": 4,
  "nbformat_minor": 0,
  "metadata": {
    "colab": {
      "name": "NozzleDesign.ipynb",
      "provenance": [],
      "include_colab_link": true
    },
    "kernelspec": {
      "name": "python3",
      "display_name": "Python 3"
    },
    "language_info": {
      "name": "python"
    }
  },
  "cells": [
    {
      "cell_type": "markdown",
      "metadata": {
        "id": "view-in-github",
        "colab_type": "text"
      },
      "source": [
        "<a href=\"https://colab.research.google.com/github/TK594/IA-flood-risk-project/blob/main/NozzleDesign.ipynb\" target=\"_parent\"><img src=\"https://colab.research.google.com/assets/colab-badge.svg\" alt=\"Open In Colab\"/></a>"
      ]
    },
    {
      "cell_type": "markdown",
      "source": [
        ""
      ],
      "metadata": {
        "id": "OhFYXMlgtWFp"
      }
    },
    {
      "cell_type": "code",
      "source": [
        "\n"
      ],
      "metadata": {
        "id": "ycvx9jQEtVy-"
      },
      "execution_count": null,
      "outputs": []
    },
    {
      "cell_type": "markdown",
      "source": [
        "'The flow area at the end of the divergent section is called the nozzle exit area. The nozzle is usually made long enough (or the exit area is great enough) such that the pressure in the combustion chamber is reduced at the nozzle exit to the pressure existing outside the nozzle. It is under this condition, Pe=Pa where Pe is the pressure at the nozzle exit and Pa is the outside ambient pressure, that thrust is maximum and the nozzle is said to be adapted, also called optimum or correct expansion.'\n",
        "http://www.braeunig.us/space/propuls.htm#:~:text=The%20force%20due%20to%20gas,It%20pushes%20the%20chamber%20upwards.\n",
        "\n",
        "https://mrbremer.wordpress.com/2014/11/11/combustion-chamber-and-nozzle-design/\n",
        "We must find that area of the nozzle where the gas pressure is equal to the outside atmospheric pressure (P_e=P_a). This area will then be the nozzle exit area.\n",
        "\n",
        "P_a varies with height. \n",
        "Chamber pressure?? dk how realiable : https://space.stackexchange.com/questions/21758/how-is-chamber-pressure-determined-for-rocket-engines "
      ],
      "metadata": {
        "id": "G_PV2FhVflU_"
      }
    },
    {
      "cell_type": "code",
      "source": [
        ""
      ],
      "metadata": {
        "id": "7yTNdtSrJwIf"
      },
      "execution_count": null,
      "outputs": []
    },
    {
      "cell_type": "code",
      "source": [
        "#Everything is in SI units \n",
        "import math \n",
        "import numpy as np \n",
        "import matplotlib.pyplot as plt\n",
        "\n",
        "#To determine atmospheric pressure at height h above earth surface \n",
        "\n",
        "h= np.linspace(0,150000,150000) #Height above earth surface \n",
        "P_0= 101325 #Sea_level standard atmospheric pressure \n",
        "C_p_air = 1004.68506 #constant pressure specific heat for air \n",
        "L = 0.00976 #temperature lapse-rate (g/C_p) for dry air \n",
        "T_0= 288.16 #Sea_level standard temperature \n",
        "g= 9.80665\n",
        "M = 0.02896968 #Molar mass of dry air \n",
        "R = 8.31446261815324 #universal gas constant\n",
        "\n",
        "\n",
        "P_a=P_0 *( 1- (g*h)/(C_p_air*T_0))**(C_p_air*M/R) #pressure of the ambient atmosphere \n",
        "plt.plot(h,P_a,'r')\n",
        "plt.xlabel('Height above earth surface/m')\n",
        "plt.ylabel('Ambient pressure,$P_{a}$/Pa')\n",
        "plt.show()\n",
        "print('Pressure at sealevel ={}Pa, pressure at >100km is accepted to be 0 , our target altitude is 150km apogee.'.format(P_a[0]))\n"
      ],
      "metadata": {
        "colab": {
          "base_uri": "https://localhost:8080/",
          "height": 314
        },
        "id": "EKSJotlL6Okm",
        "outputId": "75c287b6-61f7-42ee-8880-3c577c84e47e"
      },
      "execution_count": 1,
      "outputs": [
        {
          "output_type": "stream",
          "name": "stderr",
          "text": [
            "/usr/local/lib/python3.7/dist-packages/ipykernel_launcher.py:18: RuntimeWarning: invalid value encountered in power\n"
          ]
        },
        {
          "output_type": "display_data",
          "data": {
            "image/png": "[encoded data removed]",
            "text/plain": [
              "<Figure size 432x288 with 1 Axes>"
            ]
          },
          "metadata": {
            "needs_background": "light"
          }
        },
        {
          "output_type": "stream",
          "name": "stdout",
          "text": [
            "Pressure at sealevel =101325.0Pa, pressure at >100km is accepted to be 0 , our target altitude is 150km apogee.\n"
          ]
        }
      ]
    },
    {
      "cell_type": "code",
      "source": [
        "#At sea level , these are some assumed quantities according to the mass estimation excel sheet \n",
        "F_0 = 12500\n",
        "V_e = 1760\n",
        "q= 7.1\n",
        "t= 30\n",
        "\n",
        "\n"
      ],
      "metadata": {
        "id": "xC6wEpgJCmkj"
      },
      "execution_count": 2,
      "outputs": []
    },
    {
      "cell_type": "markdown",
      "source": [
        "The basic thrust equation "
      ],
      "metadata": {
        "id": "qCBn1yUFvGUl"
      }
    },
    {
      "cell_type": "code",
      "source": [
        "q= 7.1 #propellent mass flow rate\n",
        "P_e= 1e5 #gas pressure at nozzle exit // ideally Pe should = Pa , so adjust this according to pressure we want max thrust \n",
        "\n",
        "k= 1.12 #specific heat ratio\n",
        "P_c = 1.5e+6 #combustion chamber pressure \n",
        "T_c = 1135 #combustion chamber flame temperature \n",
        "\n",
        "V_e = np.sqrt(((2*k)/(k-1))*((R*T_c)/M)*(1-(P_e/P_c)**((k-1)/k)))  #ideal exhaust velocity \n",
        "\n"
      ],
      "metadata": {
        "id": "5GWzcI57vElJ"
      },
      "execution_count": 3,
      "outputs": []
    },
    {
      "cell_type": "markdown",
      "source": [
        "To determine nozzle expansion ratio"
      ],
      "metadata": {
        "id": "oXq_J01i54R1"
      }
    },
    {
      "cell_type": "code",
      "execution_count": 4,
      "metadata": {
        "colab": {
          "base_uri": "https://localhost:8080/"
        },
        "id": "jhv9ipurfLPb",
        "outputId": "8130f2c6-1134-4e0e-8cab-3807d515e513"
      },
      "outputs": [
        {
          "output_type": "stream",
          "name": "stdout",
          "text": [
            "[5.57903113 5.57931376 5.57959641 ...        nan        nan        nan]\n",
            "The nozzle expansion ratio is [1178.23947702 1178.86671635 1179.49431133 ...           nan           nan\n",
            "           nan]\n",
            "The engine thrust is [8546.99283041 8549.03605821 8551.08134097 ...           nan           nan\n",
            "           nan] N\n"
          ]
        }
      ],
      "source": [
        "#Assuming perfect gas law theory \n",
        "N_a = 6.02* 10**23 #Avogadro's constant\n",
        "M = 22.5 #Average molecular weight of the exhaust gases (isopropyl nitrite)\n",
        "\n",
        "\n",
        "P_t = P_c*(1+(k-1)/2)**(-k/(k-1)) #gas pressure at the nozzle throat \n",
        "T_t = T_c/(1+((k-1)/2))#gas temperature at the nozzle throat \n",
        "N_m = (2/(k-1))*(((P_c/P_a)**((k-1)/k))-1)#mach number at the nozzle exit \n",
        "A_t= (q/P_t)*(math.sqrt(R*T_t/(M*k)))#nozzle throat area\n",
        "A_e = (A_t/N_m)*((1+((k-1)/2)*N_m**2)/((k+1)/2))**((k+1)/(2*(k-1)))#nozzle exit area \n",
        "exp_ratio = A_e/A_t\n",
        "\n",
        "print(N_m)\n",
        "print('The nozzle expansion ratio is {}'.format(exp_ratio))\n",
        "\n",
        "F = q*V_e + (P_e-P_a)*A_e  #thrust on rocket \n",
        "\n",
        "print('The engine thrust is {} N'.format(F))\n"
      ]
    },
    {
      "cell_type": "markdown",
      "source": [
        "To determine burn duration , t "
      ],
      "metadata": {
        "id": "o73lxX4Wfj4v"
      }
    },
    {
      "cell_type": "code",
      "source": [
        "C = F/q #effective exhaust velocity \n",
        "m_o= 316 #initial mass of rocket \n",
        "m_f= 62#final mass of rocket\n",
        "V = C*np.log(m_o/m_f) #resulting velocity or change in velocity \n",
        "t= (m_o/q)*(1-(1/(np.exp(V/C))))  #burn duration for specific change in velocity\n",
        "\n",
        "print('The burn duration is {}s'.format(t))"
      ],
      "metadata": {
        "colab": {
          "base_uri": "https://localhost:8080/"
        },
        "id": "V1M5O_M0wkjj",
        "outputId": "37c3ef08-cced-40cd-c2d4-bb00921ab97e"
      },
      "execution_count": 5,
      "outputs": [
        {
          "output_type": "stream",
          "name": "stdout",
          "text": [
            "The burn duration is [35.77464789 35.77464789 35.77464789 ...         nan         nan\n",
            "         nan]s\n"
          ]
        }
      ]
    }
  ]
}